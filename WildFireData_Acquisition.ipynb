{
 "cells": [
  {
   "cell_type": "markdown",
   "id": "712bddb3",
   "metadata": {},
   "source": [
    "# Wild Fires caused by the weather\n",
    "\n",
    "\n",
    "\n",
    "\n"
   ]
  },
  {
   "cell_type": "markdown",
   "id": "d617e9f0",
   "metadata": {},
   "source": [
    "# Part 1: Data Acquisition"
   ]
  },
  {
   "cell_type": "markdown",
   "id": "dfebd8a3",
   "metadata": {},
   "source": [
    "At this part, we will acquire data by using the crawling method.\n",
    "We will crawl the National Interagency Fire Center site.\n",
    "The data is the USA's wildfires history.\n"
   ]
  },
  {
   "cell_type": "markdown",
   "id": "b57e8876",
   "metadata": {},
   "source": [
    "WildFire site: https://data-nifc.opendata.arcgis.com/datasets/nifc::wfigs-wildland-fire-locations-full-history/explore?location=-0.000000%2C0.000000%2C1.36&showTable=true"
   ]
  },
  {
   "cell_type": "markdown",
   "id": "c393a2a1",
   "metadata": {},
   "source": [
    "# import modules (packages)"
   ]
  },
  {
   "cell_type": "code",
   "execution_count": 1,
   "id": "596c6559",
   "metadata": {},
   "outputs": [],
   "source": [
    "import bs4\n",
    "import datetime as dt\n",
    "import time\n",
    "import numpy as np\n",
    "import requests\n",
    "import pandas as pd\n",
    "from bs4 import BeautifulSoup\n",
    "from collections import defaultdict\n",
    "from selenium import webdriver\n",
    "from webdriver_manager.firefox import GeckoDriverManager\n",
    "from webdriver_manager.chrome import ChromeDriverManager\n",
    "from selenium.webdriver.chrome.service import Service\n",
    "from selenium.webdriver.common.by import By\n",
    "from selenium.common.exceptions import TimeoutException\n",
    "from selenium.webdriver.support.ui import WebDriverWait\n",
    "from selenium.webdriver.support import expected_conditions as EC"
   ]
  },
  {
   "cell_type": "markdown",
   "id": "b4bf7b2f",
   "metadata": {},
   "source": [
    "# Global "
   ]
  },
  {
   "cell_type": "code",
   "execution_count": 2,
   "id": "ae554286",
   "metadata": {},
   "outputs": [],
   "source": [
    "url = \"https://data-nifc.opendata.arcgis.com/datasets/nifc::wfigs-wildland-fire-locations-full-history/explore?showTable=true\"\n",
    "\n",
    "\n",
    "CsvName = \"wildfiresFULLDATA.csv\""
   ]
  },
  {
   "cell_type": "markdown",
   "id": "e0343296",
   "metadata": {},
   "source": [
    "# scroll down function to get data: "
   ]
  },
  {
   "cell_type": "code",
   "execution_count": 3,
   "id": "78c61a3f",
   "metadata": {},
   "outputs": [],
   "source": [
    "def scrollDown(driver, element):\n",
    "    # Get scroll height.\n",
    "     last_height = driver.execute_script(\"return arguments[0].scrollHeight\", element)\n",
    "\n",
    "    while True:\n",
    "\n",
    "        # Scroll down to the bottom.\n",
    "        driver.execute_script(\"arguments[0].scrollTo(0, arguments[0].scrollHeight);\", element)\n",
    "\n",
    "        # Wait for full table loading\n",
    "        time.sleep(1)\n",
    "\n",
    "\n",
    "\n",
    "        # Calculate new scroll height and compare with last scroll height.\n",
    "        new_height = driver.execute_script(\"return arguments[0].scrollHeight\", element)\n",
    "\n",
    "        if new_height == last_height:\n",
    "            # Checking if we really scrolled to bottom\n",
    "            table_info = driver.find_element(by=By.CLASS_NAME, value='feature-table-count').text.split()\n",
    "            if table_info[1] == table_info[3]:\n",
    "                print(\"found {} from {}\".format(table_info[1], table_info[3]))\n",
    "                break\n",
    "            else:\n",
    "                try:\n",
    "                    driver.find_element(by=By.CLASS_NAME, value='loader')\n",
    "                except:\n",
    "                    # This site is extremly slow and sometimes it stuck at loading. To prevent it we scroll up the footer height\n",
    "                    # and scroll down again\n",
    "                    driver.execute_script(\"arguments[0].scrollTo(0, 0);\", element)\n",
    "                    time.sleep(2)\n",
    "\n",
    "        last_height = new_height"
   ]
  },
  {
   "cell_type": "markdown",
   "id": "f0e345ad",
   "metadata": {},
   "source": [
    "# full html page using selenium"
   ]
  },
  {
   "cell_type": "code",
   "execution_count": 4,
   "id": "1f5bfe7f",
   "metadata": {},
   "outputs": [],
   "source": [
    "def HTMLContent(url):\n",
    "    driver = webdriver.Firefox(service=Service(GeckoDriverManager().install()))\n",
    "    driver.get(url)\n",
    "    # Wait up to 10 seconds for the element with the class \"infinite-scroll-container\" to be present\n",
    "    wait = WebDriverWait(driver, 10)\n",
    "    element1 = wait.until(EC.presence_of_element_located((By.CLASS_NAME, \"infinite-scroll-container\")))\n",
    "    # Get table div which we will scroll\n",
    "    table = driver.find_element(by=By.CLASS_NAME, value='infinite-scroll-container')\n",
    "    # Scroll the table down\n",
    "    scrollDown(driver, table)\n",
    "\n",
    "    # returns the html content\n",
    "    return driver.page_source"
   ]
  },
  {
   "cell_type": "markdown",
   "id": "ae6c8bbf",
   "metadata": {},
   "source": [
    "# get rows and cols from the table"
   ]
  },
  {
   "cell_type": "code",
   "execution_count": 5,
   "id": "2b443c5d",
   "metadata": {},
   "outputs": [],
   "source": [
    "def getColumns(table):\n",
    "    columns = table.find_all(\"th\")\n",
    "    table_columns = []\n",
    "    for th in columns:\n",
    "        table_columns.append(th.get_text().strip())\n",
    "    return table_columns"
   ]
  },
  {
   "cell_type": "code",
   "execution_count": 6,
   "id": "623e63d2",
   "metadata": {},
   "outputs": [],
   "source": [
    "def getRows(table):\n",
    "    table_rows = []\n",
    "    rows = table.find(\"tbody\").find_all(\"tr\")\n",
    "    for tr in rows:\n",
    "        td = tr.find_all('td')\n",
    "        row = [tr.get_text().strip() for tr in td]\n",
    "        table_rows.append(row)\n",
    "    return table_rows\n"
   ]
  },
  {
   "cell_type": "markdown",
   "id": "8e2204c2",
   "metadata": {},
   "source": [
    "# using beautifullsoup to crawl the data"
   ]
  },
  {
   "cell_type": "code",
   "execution_count": 7,
   "id": "425414fd",
   "metadata": {},
   "outputs": [],
   "source": [
    "def crawlWildFiresHistory(html_content):\n",
    "    data = {}\n",
    "    soup = BeautifulSoup(html_content, \"html.parser\")\n",
    "    table = soup.find(\"table\")\n",
    "    columns = getColumns(table)\n",
    "    rows = getRows(table)\n",
    "\n",
    "    # In this section, we combine the columns and the rows to one dictionary for creating the data frame\n",
    "    for i in range(len(rows[0])):\n",
    "        curr_col = []\n",
    "        for j in range(len(rows)):\n",
    "            curr_col.append(rows[j][i])\n",
    "        data[columns[i]] = curr_col.copy()\n",
    "\n",
    "    df = pd.DataFrame(data)\n",
    "    return df.to_csv(CsvName, index=False)"
   ]
  },
  {
   "cell_type": "code",
   "execution_count": 8,
   "id": "3b1b5748",
   "metadata": {},
   "outputs": [],
   "source": [
    "html_content = HTMLContent(url)\n",
    "crawlWildFiresHistory(html_content)"
   ]
  },
  {
   "cell_type": "code",
   "execution_count": 14,
   "id": "ddba2392",
   "metadata": {},
   "outputs": [
    {
     "name": "stderr",
     "output_type": "stream",
     "text": [
      "C:\\Users\\user\\AppData\\Local\\Temp\\ipykernel_22964\\733223087.py:1: DtypeWarning: Columns (13,14,16,32,61,64,68,69,77,78,94,95) have mixed types. Specify dtype option on import or set low_memory=False.\n",
      "  df = pd.read_csv(CsvName)\n"
     ]
    },
    {
     "name": "stdout",
     "output_type": "stream",
     "text": [
      "                 X          Y  OBJECTID ABCDMisc ADSPermissionState  \\\n",
      "0      -104.457511  45.785037         1      NaN          CERTIFIED   \n",
      "1      -118.180712  33.808985         2      NaN            DEFAULT   \n",
      "2      -114.835414  48.073946         3      NaN            DEFAULT   \n",
      "3      -117.153901  33.176394         4      NaN            DEFAULT   \n",
      "4      -121.104180  38.834727         5      NaN            DEFAULT   \n",
      "...            ...        ...       ...      ...                ...   \n",
      "247867 -101.109410  42.762637    293521      NaN            DEFAULT   \n",
      "247868 -116.181226  33.644994    293522      NaN            DEFAULT   \n",
      "247869 -116.212353  33.731520    293523      NaN            DEFAULT   \n",
      "247870 -117.311062  33.617268    293524      NaN            DEFAULT   \n",
      "247871  -88.555561  30.448894    293526      NaN            DEFAULT   \n",
      "\n",
      "        CalculatedAcres     ContainmentDateTime         ControlDateTime  \\\n",
      "0                 50.64  2020/08/06 23:13:07+00  2020/08/06 23:13:24+00   \n",
      "1                   NaN                     NaN                     NaN   \n",
      "2                   NaN  2017/10/18 00:30:00+00  2017/10/18 00:35:00+00   \n",
      "3                   NaN                     NaN                     NaN   \n",
      "4                   NaN                     NaN                     NaN   \n",
      "...                 ...                     ...                     ...   \n",
      "247867              NaN                     NaN                     NaN   \n",
      "247868              NaN                     NaN                     NaN   \n",
      "247869              NaN  2023/01/06 23:40:00+00                     NaN   \n",
      "247870              NaN                     NaN                     NaN   \n",
      "247871              NaN                     NaN                     NaN   \n",
      "\n",
      "        DailyAcres  DiscoveryAcres  ... IsDispatchComplete  \\\n",
      "0            50.60           20.00  ...                  0   \n",
      "1              NaN            0.10  ...                  0   \n",
      "2            50.00           50.00  ...                  0   \n",
      "3              NaN             NaN  ...                  0   \n",
      "4              NaN             NaN  ...                  0   \n",
      "...            ...             ...  ...                ...   \n",
      "247867        1.00            1.00  ...                  0   \n",
      "247868         NaN            0.01  ...                  0   \n",
      "247869        0.01            0.01  ...                  0   \n",
      "247870         NaN            0.01  ...                  0   \n",
      "247871         NaN             NaN  ...                  0   \n",
      "\n",
      "        OrganizationalAssessment  StrategicDecisionPublishDate  \\\n",
      "0                            NaN                           NaN   \n",
      "1                            NaN                           NaN   \n",
      "2                            NaN                           NaN   \n",
      "3                            NaN                           NaN   \n",
      "4                            NaN                           NaN   \n",
      "...                          ...                           ...   \n",
      "247867                       NaN                           NaN   \n",
      "247868                       NaN                           NaN   \n",
      "247869                       NaN                           NaN   \n",
      "247870                       NaN                           NaN   \n",
      "247871                       NaN                           NaN   \n",
      "\n",
      "          CreatedOnDateTime_dt   ModifiedOnDateTime_dt Source  \\\n",
      "0       2020/08/06 19:50:29+00  2020/08/12 20:46:01+00  IRWIN   \n",
      "1       2020/02/28 20:52:36+00  2020/02/28 20:52:36+00  IRWIN   \n",
      "2       2017/10/18 13:46:40+00  2017/11/09 22:08:19+00  IRWIN   \n",
      "3       2019/07/01 20:10:12+00  2019/07/01 20:10:12+00  IRWIN   \n",
      "4       2016/06/20 22:39:02+00  2016/06/20 22:39:02+00  IRWIN   \n",
      "...                        ...                     ...    ...   \n",
      "247867  2023/01/06 22:42:13+00  2023/01/06 22:42:15+00  IRWIN   \n",
      "247868  2023/01/06 22:43:49+00  2023/01/06 22:43:49+00  IRWIN   \n",
      "247869  2023/01/06 23:42:02+00  2023/01/06 23:54:03+00  IRWIN   \n",
      "247870  2023/01/07 00:05:06+00  2023/01/07 00:05:06+00  IRWIN   \n",
      "247871  2023/01/07 00:34:19+00  2023/01/07 00:34:19+00  IRWIN   \n",
      "\n",
      "                                      GlobalID IsCpxChild CpxName CpxID  \n",
      "0       {E5436898-ED0D-4CB1-90C0-D61915FE1F29}        NaN     NaN   NaN  \n",
      "1       {0E79B7FD-2882-43CF-8CFA-911BD1C8F77A}        NaN     NaN   NaN  \n",
      "2       {FAC59A92-E6AD-443B-8625-4AAABCF7F533}        NaN     NaN   NaN  \n",
      "3       {5DF06F41-9948-49D3-B00A-2D3A1D1049C5}        NaN     NaN   NaN  \n",
      "4       {F378818E-D541-4E0A-9A44-C81886C2B8B4}        NaN     NaN   NaN  \n",
      "...                                        ...        ...     ...   ...  \n",
      "247867  {31D6319F-33DA-4652-AEE1-1EA4C5F75159}        0.0     NaN   NaN  \n",
      "247868  {4ABBC3DA-6D6E-4A00-BD6F-DDB797BD4C8A}        0.0     NaN   NaN  \n",
      "247869  {BF8BC24B-1810-4C32-B54A-FD67A8DDE4D8}        0.0     NaN   NaN  \n",
      "247870  {4C8AA093-6036-4108-B33D-D1B544F953BF}        0.0     NaN   NaN  \n",
      "247871  {6C80FB25-C635-4D46-8499-C95F4C05D456}        0.0     NaN   NaN  \n",
      "\n",
      "[247872 rows x 96 columns]\n"
     ]
    }
   ],
   "source": [
    "df = pd.read_csv(CsvName)\n",
    "print(df)"
   ]
  }
 ],
 "metadata": {
  "kernelspec": {
   "display_name": "Python 3 (ipykernel)",
   "language": "python",
   "name": "python3"
  },
  "language_info": {
   "codemirror_mode": {
    "name": "ipython",
    "version": 3
   },
   "file_extension": ".py",
   "mimetype": "text/x-python",
   "name": "python",
   "nbconvert_exporter": "python",
   "pygments_lexer": "ipython3",
   "version": "3.8.5"
  }
 },
 "nbformat": 4,
 "nbformat_minor": 5
}
