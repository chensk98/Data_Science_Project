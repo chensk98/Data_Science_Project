{
 "cells": [
  {
   "cell_type": "markdown",
   "id": "7b2d35c4",
   "metadata": {},
   "source": [
    "# Part 4: Machine Learning"
   ]
  },
  {
   "cell_type": "markdown",
   "id": "9b1adb7a",
   "metadata": {},
   "source": [
    "in this part we will use machine learning \n",
    "the type of the machine learning is Supervised learning\n",
    "the algorithm is Logistic Regression for a classification problem.\n",
    "\n"
   ]
  },
  {
   "cell_type": "code",
   "execution_count": 1,
   "id": "3f49d204",
   "metadata": {},
   "outputs": [],
   "source": [
    "import pandas as pd\n",
    "from sklearn.preprocessing import StandardScaler, MinMaxScaler\n",
    "from sklearn.linear_model import LogisticRegression\n",
    "from sklearn.model_selection import train_test_split\n",
    "from sklearn import metrics"
   ]
  },
  {
   "cell_type": "markdown",
   "id": "1207d5ad",
   "metadata": {},
   "source": [
    "# upload the CSV"
   ]
  },
  {
   "cell_type": "code",
   "execution_count": 2,
   "id": "14997eb3",
   "metadata": {},
   "outputs": [],
   "source": [
    "file_name=\"mergeData.csv\"\n",
    "df = pd.read_csv(file_name)\n",
    "df_copy = df[[\"InitialLatitude\",\"InitialLongitude\",\"FireCause\",\"DiscoveryAcres\",\n",
    "              \"temp\",\"humidity\",\"windspeed\",\"winddir\",\"uvindex\",\"CausedByWeather\"]]"
   ]
  },
  {
   "cell_type": "code",
   "execution_count": 3,
   "id": "846fb144",
   "metadata": {},
   "outputs": [
    {
     "data": {
      "text/html": [
       "<div>\n",
       "<style scoped>\n",
       "    .dataframe tbody tr th:only-of-type {\n",
       "        vertical-align: middle;\n",
       "    }\n",
       "\n",
       "    .dataframe tbody tr th {\n",
       "        vertical-align: top;\n",
       "    }\n",
       "\n",
       "    .dataframe thead th {\n",
       "        text-align: right;\n",
       "    }\n",
       "</style>\n",
       "<table border=\"1\" class=\"dataframe\">\n",
       "  <thead>\n",
       "    <tr style=\"text-align: right;\">\n",
       "      <th></th>\n",
       "      <th>InitialLatitude</th>\n",
       "      <th>InitialLongitude</th>\n",
       "      <th>FireCause</th>\n",
       "      <th>DiscoveryAcres</th>\n",
       "      <th>temp</th>\n",
       "      <th>humidity</th>\n",
       "      <th>windspeed</th>\n",
       "      <th>winddir</th>\n",
       "      <th>uvindex</th>\n",
       "      <th>CausedByWeather</th>\n",
       "    </tr>\n",
       "  </thead>\n",
       "  <tbody>\n",
       "    <tr>\n",
       "      <th>0</th>\n",
       "      <td>45.78496</td>\n",
       "      <td>-104.495800</td>\n",
       "      <td>1</td>\n",
       "      <td>20.00</td>\n",
       "      <td>25.8</td>\n",
       "      <td>77.9</td>\n",
       "      <td>19.7</td>\n",
       "      <td>61.5</td>\n",
       "      <td>4</td>\n",
       "      <td>0</td>\n",
       "    </tr>\n",
       "    <tr>\n",
       "      <th>1</th>\n",
       "      <td>41.68250</td>\n",
       "      <td>-122.102917</td>\n",
       "      <td>2</td>\n",
       "      <td>0.10</td>\n",
       "      <td>25.8</td>\n",
       "      <td>77.9</td>\n",
       "      <td>19.7</td>\n",
       "      <td>61.5</td>\n",
       "      <td>4</td>\n",
       "      <td>1</td>\n",
       "    </tr>\n",
       "    <tr>\n",
       "      <th>2</th>\n",
       "      <td>34.04701</td>\n",
       "      <td>-108.309500</td>\n",
       "      <td>2</td>\n",
       "      <td>0.30</td>\n",
       "      <td>25.8</td>\n",
       "      <td>77.9</td>\n",
       "      <td>19.7</td>\n",
       "      <td>61.5</td>\n",
       "      <td>4</td>\n",
       "      <td>1</td>\n",
       "    </tr>\n",
       "    <tr>\n",
       "      <th>3</th>\n",
       "      <td>43.06001</td>\n",
       "      <td>-121.066700</td>\n",
       "      <td>2</td>\n",
       "      <td>0.30</td>\n",
       "      <td>25.8</td>\n",
       "      <td>77.9</td>\n",
       "      <td>19.7</td>\n",
       "      <td>61.5</td>\n",
       "      <td>4</td>\n",
       "      <td>1</td>\n",
       "    </tr>\n",
       "    <tr>\n",
       "      <th>4</th>\n",
       "      <td>43.71788</td>\n",
       "      <td>-107.613000</td>\n",
       "      <td>2</td>\n",
       "      <td>4.00</td>\n",
       "      <td>25.8</td>\n",
       "      <td>77.9</td>\n",
       "      <td>19.7</td>\n",
       "      <td>61.5</td>\n",
       "      <td>4</td>\n",
       "      <td>1</td>\n",
       "    </tr>\n",
       "    <tr>\n",
       "      <th>...</th>\n",
       "      <td>...</td>\n",
       "      <td>...</td>\n",
       "      <td>...</td>\n",
       "      <td>...</td>\n",
       "      <td>...</td>\n",
       "      <td>...</td>\n",
       "      <td>...</td>\n",
       "      <td>...</td>\n",
       "      <td>...</td>\n",
       "      <td>...</td>\n",
       "    </tr>\n",
       "    <tr>\n",
       "      <th>108063</th>\n",
       "      <td>34.17984</td>\n",
       "      <td>-96.865330</td>\n",
       "      <td>1</td>\n",
       "      <td>0.50</td>\n",
       "      <td>11.0</td>\n",
       "      <td>82.2</td>\n",
       "      <td>14.2</td>\n",
       "      <td>199.4</td>\n",
       "      <td>4</td>\n",
       "      <td>0</td>\n",
       "    </tr>\n",
       "    <tr>\n",
       "      <th>108064</th>\n",
       "      <td>33.64565</td>\n",
       "      <td>-114.700800</td>\n",
       "      <td>4</td>\n",
       "      <td>0.10</td>\n",
       "      <td>15.2</td>\n",
       "      <td>78.5</td>\n",
       "      <td>28.5</td>\n",
       "      <td>196.2</td>\n",
       "      <td>3</td>\n",
       "      <td>0</td>\n",
       "    </tr>\n",
       "    <tr>\n",
       "      <th>108065</th>\n",
       "      <td>37.45070</td>\n",
       "      <td>-88.876180</td>\n",
       "      <td>1</td>\n",
       "      <td>1.00</td>\n",
       "      <td>8.9</td>\n",
       "      <td>55.1</td>\n",
       "      <td>34.1</td>\n",
       "      <td>317.5</td>\n",
       "      <td>3</td>\n",
       "      <td>0</td>\n",
       "    </tr>\n",
       "    <tr>\n",
       "      <th>108066</th>\n",
       "      <td>35.49036</td>\n",
       "      <td>-101.783700</td>\n",
       "      <td>1</td>\n",
       "      <td>0.25</td>\n",
       "      <td>8.9</td>\n",
       "      <td>55.1</td>\n",
       "      <td>34.1</td>\n",
       "      <td>317.5</td>\n",
       "      <td>3</td>\n",
       "      <td>0</td>\n",
       "    </tr>\n",
       "    <tr>\n",
       "      <th>108067</th>\n",
       "      <td>35.72529</td>\n",
       "      <td>-94.510310</td>\n",
       "      <td>1</td>\n",
       "      <td>0.20</td>\n",
       "      <td>8.9</td>\n",
       "      <td>55.1</td>\n",
       "      <td>34.1</td>\n",
       "      <td>317.5</td>\n",
       "      <td>3</td>\n",
       "      <td>0</td>\n",
       "    </tr>\n",
       "  </tbody>\n",
       "</table>\n",
       "<p>108068 rows × 10 columns</p>\n",
       "</div>"
      ],
      "text/plain": [
       "        InitialLatitude  InitialLongitude  FireCause  DiscoveryAcres  temp  \\\n",
       "0              45.78496       -104.495800          1           20.00  25.8   \n",
       "1              41.68250       -122.102917          2            0.10  25.8   \n",
       "2              34.04701       -108.309500          2            0.30  25.8   \n",
       "3              43.06001       -121.066700          2            0.30  25.8   \n",
       "4              43.71788       -107.613000          2            4.00  25.8   \n",
       "...                 ...               ...        ...             ...   ...   \n",
       "108063         34.17984        -96.865330          1            0.50  11.0   \n",
       "108064         33.64565       -114.700800          4            0.10  15.2   \n",
       "108065         37.45070        -88.876180          1            1.00   8.9   \n",
       "108066         35.49036       -101.783700          1            0.25   8.9   \n",
       "108067         35.72529        -94.510310          1            0.20   8.9   \n",
       "\n",
       "        humidity  windspeed  winddir  uvindex  CausedByWeather  \n",
       "0           77.9       19.7     61.5        4                0  \n",
       "1           77.9       19.7     61.5        4                1  \n",
       "2           77.9       19.7     61.5        4                1  \n",
       "3           77.9       19.7     61.5        4                1  \n",
       "4           77.9       19.7     61.5        4                1  \n",
       "...          ...        ...      ...      ...              ...  \n",
       "108063      82.2       14.2    199.4        4                0  \n",
       "108064      78.5       28.5    196.2        3                0  \n",
       "108065      55.1       34.1    317.5        3                0  \n",
       "108066      55.1       34.1    317.5        3                0  \n",
       "108067      55.1       34.1    317.5        3                0  \n",
       "\n",
       "[108068 rows x 10 columns]"
      ]
     },
     "execution_count": 3,
     "metadata": {},
     "output_type": "execute_result"
    }
   ],
   "source": [
    "df_copy"
   ]
  },
  {
   "cell_type": "code",
   "execution_count": 4,
   "id": "f03764dc",
   "metadata": {},
   "outputs": [],
   "source": [
    "#splitting the dataset to X and y\n",
    "def split_dataset(df, label_column):\n",
    "    TRAINING_FEATURES = df.columns[df.columns != label_column]\n",
    "    TARGET_FEATURE    = label_column\n",
    "    X = df[TRAINING_FEATURES]\n",
    "    y = df[TARGET_FEATURE]\n",
    "    return X, y"
   ]
  },
  {
   "cell_type": "code",
   "execution_count": 5,
   "id": "1bca6e85",
   "metadata": {},
   "outputs": [
    {
     "name": "stdout",
     "output_type": "stream",
     "text": [
      "        InitialLatitude  InitialLongitude  FireCause  DiscoveryAcres  temp  \\\n",
      "0              45.78496       -104.495800          1           20.00  25.8   \n",
      "1              41.68250       -122.102917          2            0.10  25.8   \n",
      "2              34.04701       -108.309500          2            0.30  25.8   \n",
      "3              43.06001       -121.066700          2            0.30  25.8   \n",
      "4              43.71788       -107.613000          2            4.00  25.8   \n",
      "...                 ...               ...        ...             ...   ...   \n",
      "108063         34.17984        -96.865330          1            0.50  11.0   \n",
      "108064         33.64565       -114.700800          4            0.10  15.2   \n",
      "108065         37.45070        -88.876180          1            1.00   8.9   \n",
      "108066         35.49036       -101.783700          1            0.25   8.9   \n",
      "108067         35.72529        -94.510310          1            0.20   8.9   \n",
      "\n",
      "        humidity  windspeed  winddir  uvindex  \n",
      "0           77.9       19.7     61.5        4  \n",
      "1           77.9       19.7     61.5        4  \n",
      "2           77.9       19.7     61.5        4  \n",
      "3           77.9       19.7     61.5        4  \n",
      "4           77.9       19.7     61.5        4  \n",
      "...          ...        ...      ...      ...  \n",
      "108063      82.2       14.2    199.4        4  \n",
      "108064      78.5       28.5    196.2        3  \n",
      "108065      55.1       34.1    317.5        3  \n",
      "108066      55.1       34.1    317.5        3  \n",
      "108067      55.1       34.1    317.5        3  \n",
      "\n",
      "[108068 rows x 9 columns] 0         0\n",
      "1         1\n",
      "2         1\n",
      "3         1\n",
      "4         1\n",
      "         ..\n",
      "108063    0\n",
      "108064    0\n",
      "108065    0\n",
      "108066    0\n",
      "108067    0\n",
      "Name: CausedByWeather, Length: 108068, dtype: int64\n"
     ]
    }
   ],
   "source": [
    "category_col_name = 'CausedByWeather'\n",
    "X, y = split_dataset(df_copy, category_col_name)\n",
    "print(X,y)"
   ]
  },
  {
   "cell_type": "code",
   "execution_count": 6,
   "id": "9c7c6d73",
   "metadata": {},
   "outputs": [],
   "source": [
    "#splitting to test and train\n",
    "def split_to_train_and_test(X, y, test_ratio, rand_state):\n",
    "    X_train, X_test, y_train, y_test = train_test_split(X, y, test_size=test_ratio, random_state=rand_state)\n",
    "    return X_train, X_test, y_train, y_test"
   ]
  },
  {
   "cell_type": "code",
   "execution_count": 7,
   "id": "98e09ca5",
   "metadata": {},
   "outputs": [],
   "source": [
    "#trying min max and standard\n",
    "def scale_features(X_train, scale_type):\n",
    "    if (scale_type == 'standard'):\n",
    "        scaler = StandardScaler()\n",
    "        X_train_scaled = scaler.fit_transform(X_train)\n",
    "    if (scale_type == 'minmax'):\n",
    "        scaler = MinMaxScaler(feature_range=(0, 1))\n",
    "        X_train_scaled = scaler.fit_transform(X_train)\n",
    "    return scaler, X_train_scaled"
   ]
  },
  {
   "cell_type": "code",
   "execution_count": 8,
   "id": "d17fca58",
   "metadata": {},
   "outputs": [],
   "source": [
    "def scale_test_features(X_test, scaler):\n",
    "    X_test_scaled = scaler.transform(X_test)\n",
    "    return X_test_scaled"
   ]
  },
  {
   "cell_type": "code",
   "execution_count": 9,
   "id": "04e01885",
   "metadata": {},
   "outputs": [],
   "source": [
    "#Training our model\n",
    "def train_classifier(X_train, y_train):\n",
    "    clf_model = LogisticRegression(max_iter=20000)\n",
    "    clf_model.fit(X_train,y_train)\n",
    "    return clf_model\n"
   ]
  },
  {
   "cell_type": "code",
   "execution_count": 10,
   "id": "39da4b34",
   "metadata": {},
   "outputs": [],
   "source": [
    "#Predict a result\n",
    "def predict(classifier, X_test, y_test):\n",
    "    y_pred = classifier.predict(X_test)\n",
    "    resDF = pd.DataFrame({\"Actual\": y_test, \"Predicted\":y_pred})\n",
    "    return resDF"
   ]
  },
  {
   "cell_type": "code",
   "execution_count": 11,
   "id": "521e2e75",
   "metadata": {},
   "outputs": [
    {
     "name": "stdout",
     "output_type": "stream",
     "text": [
      "        InitialLatitude  InitialLongitude  FireCause  DiscoveryAcres  temp  \\\n",
      "1818          46.810600       -110.580800          2            0.25  27.6   \n",
      "40761         37.457250       -108.900400          2            0.30  27.4   \n",
      "55790         39.847920       -119.740900          1            4.50  24.0   \n",
      "8136          33.330783        -95.539150          1           25.00   9.2   \n",
      "83835         34.419610       -112.485400          4            1.00  27.6   \n",
      "...                 ...               ...        ...             ...   ...   \n",
      "106817        33.776433        -96.744983          4           10.00  16.2   \n",
      "85986         37.085990       -102.505800          2            1.00  23.7   \n",
      "61324         43.996500       -108.002600          1            0.41  27.6   \n",
      "931           45.670517       -114.223983          2            0.10  22.7   \n",
      "34752         41.086390       -123.240300          2            0.10  24.3   \n",
      "\n",
      "        humidity  windspeed  winddir  uvindex  \n",
      "1818        66.9       23.9    308.4        9  \n",
      "40761       59.4       18.0    141.9        4  \n",
      "55790       46.8       29.0     46.1       10  \n",
      "8136        45.2       18.3    168.7        7  \n",
      "83835       67.9       18.1    204.0        7  \n",
      "...          ...        ...      ...      ...  \n",
      "106817      72.7       23.2    179.8        6  \n",
      "85986       54.5       19.1     85.0        5  \n",
      "61324       74.6       26.8    193.7        8  \n",
      "931         66.3       15.3    357.6        9  \n",
      "34752       64.5       14.4    183.4        9  \n",
      "\n",
      "[75647 rows x 9 columns]        InitialLatitude  InitialLongitude  FireCause  DiscoveryAcres  temp  \\\n",
      "7903         48.728170       -117.641200          1             0.1  24.3   \n",
      "27982        48.573770       -119.059600          1             0.1  26.9   \n",
      "70875        31.471400       -110.975700          1             4.0  18.3   \n",
      "9919         40.822400       -112.899900          1             1.0  21.7   \n",
      "28528        38.852798        -82.522400          4             0.1  15.1   \n",
      "...                ...               ...        ...             ...   ...   \n",
      "94508        32.482150       -104.324300          1             3.0  22.7   \n",
      "70538        39.303720        -95.844260          1             0.1   5.6   \n",
      "10852        46.293780       -115.667600          2             0.1  23.6   \n",
      "93760        32.663526        -94.346551          4             8.0   1.8   \n",
      "89721        47.472480       -104.712500          1            31.3  20.3   \n",
      "\n",
      "       humidity  windspeed  winddir  uvindex  \n",
      "7903       47.0       23.2    338.1        6  \n",
      "27982      78.5       19.7    181.8        2  \n",
      "70875      59.9       20.2    175.3        6  \n",
      "9919       86.7       31.7     24.8        2  \n",
      "28528      46.4       11.9    136.7        9  \n",
      "...         ...        ...      ...      ...  \n",
      "94508      46.1       36.8    230.9        6  \n",
      "70538      55.4       44.1    294.3        3  \n",
      "10852      44.6       23.5    319.1        9  \n",
      "93760      34.5       27.9    312.5        8  \n",
      "89721      82.0       25.9     32.5        1  \n",
      "\n",
      "[32421 rows x 9 columns] 1818      1\n",
      "40761     1\n",
      "55790     0\n",
      "8136      0\n",
      "83835     0\n",
      "         ..\n",
      "106817    0\n",
      "85986     1\n",
      "61324     0\n",
      "931       1\n",
      "34752     1\n",
      "Name: CausedByWeather, Length: 75647, dtype: int64 7903     0\n",
      "27982    0\n",
      "70875    0\n",
      "9919     0\n",
      "28528    0\n",
      "        ..\n",
      "94508    0\n",
      "70538    0\n",
      "10852    1\n",
      "93760    0\n",
      "89721    0\n",
      "Name: CausedByWeather, Length: 32421, dtype: int64\n"
     ]
    }
   ],
   "source": [
    "X_train, X_test, y_train, y_test = split_to_train_and_test(X, y, 0.3, 41)\n",
    "#To see info about our X and y\n",
    "print(X_train, X_test, y_train, y_test)"
   ]
  },
  {
   "cell_type": "code",
   "execution_count": 12,
   "id": "6b3cfb7a",
   "metadata": {},
   "outputs": [],
   "source": [
    "#scaling our data\n",
    "minmax_scaler, X_train_minmax_scaled = scale_features(X_train, 'minmax')\n",
    "standard_scaler, X_train_standard_scaled = scale_features(X_train, 'standard')\n"
   ]
  },
  {
   "cell_type": "code",
   "execution_count": 13,
   "id": "72dc8f7c",
   "metadata": {},
   "outputs": [
    {
     "name": "stdout",
     "output_type": "stream",
     "text": [
      "[[0.61607319 0.38649668 0.33333333 ... 0.30293663 0.85853523 0.9       ]\n",
      " [0.35020239 0.3996466  0.33333333 ... 0.21174652 0.39487608 0.4       ]\n",
      " [0.41815765 0.31481462 0.         ... 0.38176198 0.12809802 1.        ]\n",
      " ...\n",
      " [0.53608185 0.4066723  0.         ... 0.34775889 0.53912559 0.8       ]\n",
      " [0.58366611 0.35798708 0.33333333 ... 0.17001546 0.99554442 0.9       ]\n",
      " [0.4533614  0.28743018 0.33333333 ... 0.1561051  0.51044277 0.9       ]]\n"
     ]
    }
   ],
   "source": [
    "print(X_train_minmax_scaled)"
   ]
  },
  {
   "cell_type": "code",
   "execution_count": 14,
   "id": "f2985d41",
   "metadata": {},
   "outputs": [
    {
     "name": "stdout",
     "output_type": "stream",
     "text": [
      "[[ 1.24597099 -0.09530315  0.33209354 ...  0.3100037   1.13398126\n",
      "   0.93311755]\n",
      " [-0.47988021  0.05933293  0.33209354 ... -0.47427187 -0.55804135\n",
      "  -1.00874673]\n",
      " [-0.03876118 -0.93824647 -0.71762566 ...  0.98793681 -1.53158949\n",
      "   1.32149041]\n",
      " ...\n",
      " [ 0.72672197  0.14195152 -0.71762566 ...  0.69549508 -0.03163432\n",
      "   0.5447447 ]\n",
      " [ 1.0356064  -0.43056114  0.33209354 ... -0.83317764  1.63396631\n",
      "   0.93311755]\n",
      " [ 0.18975747 -1.26027307  0.33209354 ... -0.95281289 -0.13630599\n",
      "   0.93311755]]\n"
     ]
    }
   ],
   "source": [
    "print(X_train_standard_scaled)"
   ]
  },
  {
   "cell_type": "code",
   "execution_count": 15,
   "id": "fef35fdd",
   "metadata": {},
   "outputs": [],
   "source": [
    "X_test_minmax_scaled = scale_test_features(X_test, minmax_scaler)\n",
    "X_test_standard_scaled = scale_test_features(X_test, standard_scaler)\n"
   ]
  },
  {
   "cell_type": "code",
   "execution_count": 16,
   "id": "1c615b42",
   "metadata": {},
   "outputs": [],
   "source": [
    "#Training\n",
    "classification_model = train_classifier(X_train, y_train)\n",
    "classification_minmax_model = train_classifier(X_train_minmax_scaled, y_train)\n",
    "classification_standard_model = train_classifier(X_train_standard_scaled, y_train)"
   ]
  },
  {
   "cell_type": "code",
   "execution_count": 17,
   "id": "a8749bc4",
   "metadata": {},
   "outputs": [
    {
     "name": "stdout",
     "output_type": "stream",
     "text": [
      "<class 'sklearn.linear_model._logistic.LogisticRegression'>\n"
     ]
    }
   ],
   "source": [
    "#using logistic regression for our clasiffication problem\n",
    "print(type(classification_model))"
   ]
  },
  {
   "cell_type": "code",
   "execution_count": 18,
   "id": "7cb592d3",
   "metadata": {},
   "outputs": [],
   "source": [
    "df_res = predict(classification_model, X_test, y_test)\n",
    "df_minmax_res = predict(classification_minmax_model, X_test_minmax_scaled, y_test)\n",
    "df_standard_res = predict(classification_standard_model, X_test_standard_scaled, y_test)"
   ]
  },
  {
   "cell_type": "code",
   "execution_count": 19,
   "id": "6d438683",
   "metadata": {},
   "outputs": [],
   "source": [
    "#checking accuracy of all models\n",
    "def checkAcurracy(df):\n",
    "    df[\"correct\"] = abs((df[\"Actual\"]^df[\"Predicted\"])-1)\n",
    "    df[df[\"correct\"] == 1]\n",
    "    accuracy = metrics.accuracy_score(y_test, df['Predicted'])\n",
    "    accuracy_percentage = 100 * accuracy\n",
    "    return df, accuracy_percentage"
   ]
  },
  {
   "cell_type": "code",
   "execution_count": 20,
   "id": "8ded3485",
   "metadata": {},
   "outputs": [
    {
     "name": "stdout",
     "output_type": "stream",
     "text": [
      "       Actual  Predicted  correct\n",
      "7903        0          0        1\n",
      "27982       0          0        1\n",
      "70875       0          0        1\n",
      "9919        0          0        1\n",
      "28528       0          0        1\n",
      "...       ...        ...      ...\n",
      "94508       0          0        1\n",
      "70538       0          0        1\n",
      "10852       1          0        0\n",
      "93760       0          0        1\n",
      "89721       0          0        1\n",
      "\n",
      "[32421 rows x 3 columns]\n",
      "73.01131982357114\n"
     ]
    }
   ],
   "source": [
    "#using minmax scaler\n",
    "df_minmax_res, accuracy1 = checkAcurracy(df_minmax_res)\n",
    "print(df_minmax_res)\n",
    "print(accuracy1)\n"
   ]
  },
  {
   "cell_type": "code",
   "execution_count": 21,
   "id": "f9927205",
   "metadata": {},
   "outputs": [
    {
     "name": "stdout",
     "output_type": "stream",
     "text": [
      "       Actual  Predicted  correct\n",
      "7903        0          0        1\n",
      "27982       0          0        1\n",
      "70875       0          0        1\n",
      "9919        0          0        1\n",
      "28528       0          0        1\n",
      "...       ...        ...      ...\n",
      "94508       0          0        1\n",
      "70538       0          0        1\n",
      "10852       1          0        0\n",
      "93760       0          0        1\n",
      "89721       0          0        1\n",
      "\n",
      "[32421 rows x 3 columns]\n",
      "73.02982634712069\n"
     ]
    }
   ],
   "source": [
    "#using standard scaler\n",
    "df_standard_res, accuracy2 = checkAcurracy(df_standard_res)\n",
    "print(df_standard_res)\n",
    "print(accuracy2)"
   ]
  },
  {
   "cell_type": "code",
   "execution_count": 22,
   "id": "63f9f73b",
   "metadata": {},
   "outputs": [
    {
     "name": "stdout",
     "output_type": "stream",
     "text": [
      "       Actual  Predicted  correct\n",
      "7903        0          0        1\n",
      "27982       0          0        1\n",
      "70875       0          0        1\n",
      "9919        0          0        1\n",
      "28528       0          0        1\n",
      "...       ...        ...      ...\n",
      "94508       0          0        1\n",
      "70538       0          0        1\n",
      "10852       1          0        0\n",
      "93760       0          0        1\n",
      "89721       0          0        1\n",
      "\n",
      "[32421 rows x 3 columns]\n",
      "73.05758613244502\n"
     ]
    }
   ],
   "source": [
    "#Without scaler is the best percentage\n",
    "df_res, accuracy = checkAcurracy(df_res)\n",
    "print(df_res)\n",
    "print(accuracy)"
   ]
  }
 ],
 "metadata": {
  "kernelspec": {
   "display_name": "Python 3 (ipykernel)",
   "language": "python",
   "name": "python3"
  },
  "language_info": {
   "codemirror_mode": {
    "name": "ipython",
    "version": 3
   },
   "file_extension": ".py",
   "mimetype": "text/x-python",
   "name": "python",
   "nbconvert_exporter": "python",
   "pygments_lexer": "ipython3",
   "version": "3.8.5"
  }
 },
 "nbformat": 4,
 "nbformat_minor": 5
}
